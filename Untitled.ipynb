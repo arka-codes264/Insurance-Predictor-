{
 "cells": [
  {
   "cell_type": "code",
   "execution_count": null,
   "id": "3b9e96e1-bcdf-4887-b2e9-f61064cd1a71",
   "metadata": {},
   "outputs": [],
   "source": [
    "import numpy as np \n",
    "import pandas as pd\n",
    "import seaborn as sns\n",
    "import matplotlib.pyplot as plt\n",
    "import warnings\n",
    "\n",
    "warnings.filterwarnings('ignore')"
   ]
  },
  {
   "cell_type": "code",
   "execution_count": null,
   "id": "44312a6e-4f25-4bd4-9286-27211a92e1de",
   "metadata": {},
   "outputs": [],
   "source": [
    "df = pd.read_csv('insurance.csv')"
   ]
  },
  {
   "cell_type": "code",
   "execution_count": null,
   "id": "2abda1d2-e23b-44ad-abc7-0901b0fee277",
   "metadata": {},
   "outputs": [],
   "source": [
    "df"
   ]
  },
  {
   "cell_type": "markdown",
   "id": "67f8cac8-c513-4795-9ed7-196879b35c68",
   "metadata": {},
   "source": [
    "# EDA"
   ]
  },
  {
   "cell_type": "code",
   "execution_count": null,
   "id": "371947cb-3f97-4a44-8926-35e2cc16d514",
   "metadata": {},
   "outputs": [],
   "source": [
    "df.shape"
   ]
  },
  {
   "cell_type": "code",
   "execution_count": null,
   "id": "f45a0bd1-3efd-470b-ac2f-6ccc78950479",
   "metadata": {},
   "outputs": [],
   "source": [
    "df.info"
   ]
  },
  {
   "cell_type": "code",
   "execution_count": null,
   "id": "c76a75d1-6566-4b34-a387-6d34a9c3d7ce",
   "metadata": {},
   "outputs": [],
   "source": [
    "df.describe()"
   ]
  },
  {
   "cell_type": "code",
   "execution_count": null,
   "id": "53a208b8-0067-4ca4-acd8-2967ebd00567",
   "metadata": {},
   "outputs": [],
   "source": [
    "df.isnull().sum()"
   ]
  },
  {
   "cell_type": "code",
   "execution_count": null,
   "id": "4a20f8a3-79ec-49e1-89a0-139110c0a07e",
   "metadata": {},
   "outputs": [],
   "source": [
    "numeric_columns = ['age', 'bmi', 'children', 'charges']\n",
    "for col in numeric_columns:\n",
    "    plt.figure(figsize = (6,4))\n",
    "    sns.histplot(df[col],kde = True , bins = 20)"
   ]
  },
  {
   "cell_type": "code",
   "execution_count": null,
   "id": "037d60ce-40ec-496f-887e-6e61d669ca0a",
   "metadata": {},
   "outputs": [],
   "source": [
    "sns.countplot(x = df['children'])"
   ]
  },
  {
   "cell_type": "code",
   "execution_count": null,
   "id": "7da896b4-df30-40f8-a13b-8924a9771042",
   "metadata": {},
   "outputs": [],
   "source": [
    "sns.countplot(x = df['sex'])"
   ]
  },
  {
   "cell_type": "code",
   "execution_count": null,
   "id": "62826d24-8709-416b-aff5-a346ff380491",
   "metadata": {},
   "outputs": [],
   "source": [
    "sns.countplot(x = df['smoker'])"
   ]
  },
  {
   "cell_type": "code",
   "execution_count": null,
   "id": "0ae45a4c-8145-4db9-b1b9-295721b2ee93",
   "metadata": {},
   "outputs": [],
   "source": [
    "for col in numeric_columns:\n",
    "    plt.figure(figsize = (6,4))\n",
    "    sns.boxplot(x = df[col])"
   ]
  },
  {
   "cell_type": "raw",
   "id": "fda45a18-522e-4a77-bd0b-9efb71667821",
   "metadata": {},
   "source": [
    "Corelation"
   ]
  },
  {
   "cell_type": "code",
   "execution_count": null,
   "id": "87d1bf99-70dd-450e-8c2a-0d324cdef4d1",
   "metadata": {},
   "outputs": [],
   "source": [
    "plt.figure(figsize = (8,6))\n",
    "sns.heatmap(df.corr(numeric_only = True), annot = True)"
   ]
  },
  {
   "cell_type": "markdown",
   "id": "7b8925e6-96d8-4226-8f73-1ced87e3c435",
   "metadata": {},
   "source": [
    "# Data Cleaning & Preprocessing"
   ]
  },
  {
   "cell_type": "code",
   "execution_count": null,
   "id": "2555d56f-a366-4adf-acdb-14d8aeed5320",
   "metadata": {},
   "outputs": [],
   "source": [
    "df_clean = df.copy()"
   ]
  },
  {
   "cell_type": "code",
   "execution_count": null,
   "id": "fff2177e-e4a0-43d8-9c2a-c9f6c6112f22",
   "metadata": {},
   "outputs": [],
   "source": [
    "df_clean.head()"
   ]
  },
  {
   "cell_type": "code",
   "execution_count": null,
   "id": "8758753b-1b8e-463b-a84f-7f2ad5e24c06",
   "metadata": {},
   "outputs": [],
   "source": [
    "df_clean.shape"
   ]
  },
  {
   "cell_type": "code",
   "execution_count": null,
   "id": "0a1eb916-b29e-43dc-9bea-578f98fe18a1",
   "metadata": {},
   "outputs": [],
   "source": [
    "df_clean.drop_duplicates(inplace = True)"
   ]
  },
  {
   "cell_type": "code",
   "execution_count": null,
   "id": "a6be8eb1-4501-4233-945b-571f1ce657c6",
   "metadata": {},
   "outputs": [],
   "source": [
    "df_clean.shape"
   ]
  },
  {
   "cell_type": "code",
   "execution_count": null,
   "id": "b3c20fb1-6065-4e36-93d5-f87691d39836",
   "metadata": {},
   "outputs": [],
   "source": [
    "df_clean.isnull().sum()"
   ]
  },
  {
   "cell_type": "code",
   "execution_count": null,
   "id": "da2712c3-8caa-494c-b3f1-537ebc5e802f",
   "metadata": {},
   "outputs": [],
   "source": [
    "df_clean['sex'].value_counts()"
   ]
  },
  {
   "cell_type": "code",
   "execution_count": null,
   "id": "380cc32d-859c-4d24-a1ca-2db7d3cdf549",
   "metadata": {},
   "outputs": [],
   "source": [
    "df_clean['sex'] = df_clean['sex'].map({\"male\" : 0 , \"female\" : 1})"
   ]
  },
  {
   "cell_type": "code",
   "execution_count": null,
   "id": "89b6bbbc-f526-4733-9bad-2b902e081652",
   "metadata": {},
   "outputs": [],
   "source": [
    "df_clean.head()"
   ]
  },
  {
   "cell_type": "code",
   "execution_count": null,
   "id": "2ce8d20e-cceb-4b7f-9162-0c42ff980061",
   "metadata": {},
   "outputs": [],
   "source": [
    "df_clean['smoker'] = df_clean['smoker'].map({\"no\" : 0 , \"yes\" : 1})"
   ]
  },
  {
   "cell_type": "code",
   "execution_count": null,
   "id": "14545d91-f26b-4808-9ae9-88af0f9eb0fb",
   "metadata": {},
   "outputs": [],
   "source": [
    "df_clean"
   ]
  },
  {
   "cell_type": "code",
   "execution_count": null,
   "id": "83a1a0a5-9822-455f-8ff2-a0b544917a6e",
   "metadata": {},
   "outputs": [],
   "source": [
    "df_clean.rename(columns = {\n",
    "    'sex' : 'is_female',\n",
    "    'smoker' : 'is_smoker',\n",
    "                            },inplace = True)"
   ]
  },
  {
   "cell_type": "code",
   "execution_count": null,
   "id": "442fc4a2-35d5-4109-a226-ae8cb0fc64be",
   "metadata": {},
   "outputs": [],
   "source": [
    "df_clean"
   ]
  },
  {
   "cell_type": "code",
   "execution_count": null,
   "id": "b47f507e-7c1d-44db-9779-6356d3019a37",
   "metadata": {},
   "outputs": [],
   "source": [
    "df['region'].value_counts()"
   ]
  },
  {
   "cell_type": "code",
   "execution_count": null,
   "id": "a6338323-45ea-45a3-8d9c-17b4bff9a523",
   "metadata": {},
   "outputs": [],
   "source": [
    "df_clean = pd.get_dummies(df_clean,columns = ['region'],drop_first = True)"
   ]
  },
  {
   "cell_type": "code",
   "execution_count": null,
   "id": "92f330f0-1c95-4580-a467-44f2c3e451f8",
   "metadata": {},
   "outputs": [],
   "source": [
    "df_clean.head()"
   ]
  },
  {
   "cell_type": "code",
   "execution_count": null,
   "id": "3cc59442-bac6-4092-889a-c91ac83e72af",
   "metadata": {},
   "outputs": [],
   "source": [
    "df_clean = df_clean.astype(int)"
   ]
  },
  {
   "cell_type": "code",
   "execution_count": null,
   "id": "8aace677-999c-4a00-88f9-5ea9f0d814e1",
   "metadata": {},
   "outputs": [],
   "source": [
    "df_clean"
   ]
  },
  {
   "cell_type": "markdown",
   "id": "fb420e1b-5fc8-4332-b46f-c42fa77ab679",
   "metadata": {},
   "source": [
    "# Feature Engineering and Extraction"
   ]
  },
  {
   "cell_type": "code",
   "execution_count": null,
   "id": "d2c71029-ada1-4dfd-a1c8-2ed367cf3348",
   "metadata": {},
   "outputs": [],
   "source": [
    "sns.histplot(df['bmi'])"
   ]
  },
  {
   "cell_type": "code",
   "execution_count": null,
   "id": "03139483-0495-4cb0-bde8-82fbab4edfcc",
   "metadata": {},
   "outputs": [],
   "source": [
    "df_clean['bmi_category'] = pd.cut(\n",
    "    df_clean['bmi'],\n",
    "    bins = [0, 18.5, 24.9,29.9, float('inf')],\n",
    "    labels = ['Underweight' , 'Normal', 'Overweight', 'Obese']\n",
    ")"
   ]
  },
  {
   "cell_type": "code",
   "execution_count": null,
   "id": "fa007330-e564-4e2d-b98d-9751b89b8586",
   "metadata": {},
   "outputs": [],
   "source": [
    "df_clean"
   ]
  },
  {
   "cell_type": "code",
   "execution_count": null,
   "id": "700deeb1-694b-4f1e-8343-e80da2425b82",
   "metadata": {},
   "outputs": [],
   "source": [
    "df_clean = pd.get_dummies(df_clean,columns = ['bmi_category'],drop_first = True)"
   ]
  },
  {
   "cell_type": "code",
   "execution_count": null,
   "id": "6f1d3212-6d62-4c7f-b74d-2314c78254d9",
   "metadata": {},
   "outputs": [],
   "source": [
    "df_clean = df_clean.astype(int)"
   ]
  },
  {
   "cell_type": "code",
   "execution_count": null,
   "id": "d0d1ce1b-457b-42d3-80ce-7580317b15c4",
   "metadata": {},
   "outputs": [],
   "source": [
    "df_clean.head()"
   ]
  },
  {
   "cell_type": "markdown",
   "id": "2492420e-dac3-45d6-844a-1a1b01fba179",
   "metadata": {},
   "source": [
    "# Feature Scaling"
   ]
  },
  {
   "cell_type": "code",
   "execution_count": null,
   "id": "dc3ec669-0162-45b4-b52d-7784021a5ae2",
   "metadata": {},
   "outputs": [],
   "source": [
    "from sklearn.preprocessing import StandardScaler\n",
    "cols = ['age' , 'bmi', 'children']\n",
    "scaler = StandardScaler()\n",
    "df_clean[cols] = scaler.fit_transform(df_clean[cols])"
   ]
  },
  {
   "cell_type": "code",
   "execution_count": null,
   "id": "adce2dbd-3e5f-4ae9-b383-ad87082078e0",
   "metadata": {},
   "outputs": [],
   "source": [
    "df_clean.head()"
   ]
  },
  {
   "cell_type": "markdown",
   "id": "85721ef5-a8cb-4f3e-87de-7b9529c75d89",
   "metadata": {},
   "source": [
    "# Feature Extraction"
   ]
  },
  {
   "cell_type": "code",
   "execution_count": null,
   "id": "f43022aa-817c-4386-92c0-e7ade538196f",
   "metadata": {},
   "outputs": [],
   "source": [
    "#Scipy"
   ]
  },
  {
   "cell_type": "code",
   "execution_count": null,
   "id": "4c7a0008-3763-4b16-8b27-1fec70a0fb39",
   "metadata": {},
   "outputs": [],
   "source": [
    "# Here We are observing that which columns or features are more co-related with the output data column\n",
    "\n",
    "from scipy.stats import pearsonr\n",
    "# List of features to check against \n",
    "selected_features = [\n",
    "    'age' , 'bmi' , 'children' , 'is_female' , 'is_smoker' ,\n",
    "    'region_northwest' , 'region_southeast' , 'region_southwest' ,\n",
    "    'bmi_category_Normal' , 'bmi_category_Overweight' ,'bmi_category_Obese'\n",
    "]\n",
    "\n",
    "correlations = {\n",
    "    feature: pearsonr(df_clean[feature], df_clean['charges'])[0]\n",
    "    for feature in selected_features\n",
    "}\n",
    "corelation_df = pd.DataFrame(list(correlations.items()), columns = ['Feature','Person Corelation'])\n",
    "corelation_df.sort_values(by= 'Person Corelation', ascending = False)"
   ]
  },
  {
   "cell_type": "code",
   "execution_count": null,
   "id": "7b367a2a-1d86-4da3-9db0-f3b6680d718d",
   "metadata": {},
   "outputs": [],
   "source": [
    "cat_features = [\n",
    "    'is_female', 'is_smoker',\n",
    "    'region_northwest', 'region_southeast', 'region_southwest', \n",
    "    'bmi_category_Normal','bmi_category_Overweight' ,'bmi_category_Obese'\n",
    "]"
   ]
  },
  {
   "cell_type": "raw",
   "id": "a34a3f3f-1e25-47e2-b7f1-67b67f6eeaf8",
   "metadata": {},
   "source": [
    "-------> Creating small bins for the charges  <--------"
   ]
  },
  {
   "cell_type": "code",
   "execution_count": null,
   "id": "d7bf7b0a-8b40-4370-925d-74e788bdc281",
   "metadata": {},
   "outputs": [],
   "source": [
    "from scipy.stats import chi2_contingency\n",
    "import pandas as pd\n",
    "\n",
    "alpha = 0.05\n",
    "\n",
    "df_clean['charges_bin'] = pd.qcut(df_clean['charges'], q = 4 , labels = False)\n",
    "chi2_results= {}\n",
    "\n",
    "for col in cat_features:\n",
    "    contingency = pd.crosstab(df_clean[col], df_clean['charges_bin'])\n",
    "    chi2_stat, p_val, _, _ = chi2_contingency(contingency)\n",
    "    decision = 'Reject Null (Keep Feature)' if p_val < alpha else 'Accept Null (Drop Feature)'\n",
    "    chi2_results[col] = {\n",
    "        'chi2_statistic': chi2_stat,\n",
    "        'p_value': p_val,\n",
    "        'Decision': decision\n",
    "    }\n",
    "\n",
    "chi2_df = pd.DataFrame(chi2_results).T\n",
    "chi2_df = chi2_df.sort_values(by='p_value')\n",
    "chi2_df\n"
   ]
  },
  {
   "cell_type": "code",
   "execution_count": null,
   "id": "abfcc18d-3ea4-4182-bc9b-264c779daa0f",
   "metadata": {},
   "outputs": [],
   "source": [
    "final_df = df_clean[['age', 'is_female', 'bmi', 'children', 'is_smoker', 'charges','region_southeast','bmi_category_Obese']]"
   ]
  },
  {
   "cell_type": "code",
   "execution_count": null,
   "id": "e207aa6b-fbde-43a6-a3a9-7613e9c4b890",
   "metadata": {},
   "outputs": [],
   "source": [
    "final_df"
   ]
  },
  {
   "cell_type": "markdown",
   "id": "39fe4241-0ad0-4b43-961e-e376cf2fe6c4",
   "metadata": {},
   "source": [
    "!git remote add origin git@github.com:arka-codes264/Insurance-Predictor-.git\n",
    "!git branch -M main\n",
    "!git push -u origin main\n"
   ]
  },
  {
   "cell_type": "code",
   "execution_count": null,
   "id": "39913674-9701-481f-a772-bffd111b6a89",
   "metadata": {},
   "outputs": [],
   "source": []
  }
 ],
 "metadata": {
  "kernelspec": {
   "display_name": "Python [conda env:base] *",
   "language": "python",
   "name": "conda-base-py"
  },
  "language_info": {
   "codemirror_mode": {
    "name": "ipython",
    "version": 3
   },
   "file_extension": ".py",
   "mimetype": "text/x-python",
   "name": "python",
   "nbconvert_exporter": "python",
   "pygments_lexer": "ipython3",
   "version": "3.13.5"
  }
 },
 "nbformat": 4,
 "nbformat_minor": 5
}
